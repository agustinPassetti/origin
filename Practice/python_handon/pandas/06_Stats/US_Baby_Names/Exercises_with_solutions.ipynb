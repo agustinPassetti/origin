{
 "cells": [
  {
   "cell_type": "markdown",
   "metadata": {},
   "source": [
    "# US - Baby Names"
   ]
  },
  {
   "cell_type": "markdown",
   "metadata": {},
   "source": [
    "### Introduction:\n",
    "\n",
    "We are going to use a subset of [US Baby Names](https://www.kaggle.com/kaggle/us-baby-names) from Kaggle.  \n",
    "In the file it will be names from 2004 until 2014\n",
    "\n",
    "\n",
    "### Step 1. Import the necessary libraries"
   ]
  },
  {
   "cell_type": "code",
   "execution_count": 1,
   "metadata": {
    "collapsed": false
   },
   "outputs": [],
   "source": [
    "import pandas as pd"
   ]
  },
  {
   "cell_type": "markdown",
   "metadata": {},
   "source": [
    "### Step 2. Import the dataset from this [address](https://raw.githubusercontent.com/guipsamora/pandas_exercises/master/Stats/US_Baby_Names/US_Baby_Names_right.csv). "
   ]
  },
  {
   "cell_type": "markdown",
   "metadata": {},
   "source": [
    "### Step 3. Assign it to a variable called baby_names."
   ]
  },
  {
   "cell_type": "code",
   "execution_count": 2,
   "metadata": {
    "collapsed": false
   },
   "outputs": [
    {
     "output_type": "stream",
     "name": "stdout",
     "text": [
      "<class 'pandas.core.frame.DataFrame'>\nRangeIndex: 1016395 entries, 0 to 1016394\nData columns (total 7 columns):\n #   Column      Non-Null Count    Dtype \n---  ------      --------------    ----- \n 0   Unnamed: 0  1016395 non-null  int64 \n 1   Id          1016395 non-null  int64 \n 2   Name        1016395 non-null  object\n 3   Year        1016395 non-null  int64 \n 4   Gender      1016395 non-null  object\n 5   State       1016395 non-null  object\n 6   Count       1016395 non-null  int64 \ndtypes: int64(4), object(3)\nmemory usage: 54.3+ MB\n"
     ]
    }
   ],
   "source": [
    "baby_names = pd.read_csv('/home/agustin/Documentos/vs_workspace_agus/Practice/python_handon/pandas/06_Stats/US_Baby_Names/US_Baby_Names_right.csv')\n",
    "baby_names.info()"
   ]
  },
  {
   "cell_type": "markdown",
   "metadata": {},
   "source": [
    "### Step 4. See the first 10 entries"
   ]
  },
  {
   "cell_type": "code",
   "execution_count": 3,
   "metadata": {
    "collapsed": false
   },
   "outputs": [
    {
     "output_type": "execute_result",
     "data": {
      "text/plain": [
       "   Unnamed: 0     Id      Name  Year Gender State  Count\n",
       "0       11349  11350      Emma  2004      F    AK     62\n",
       "1       11350  11351   Madison  2004      F    AK     48\n",
       "2       11351  11352    Hannah  2004      F    AK     46\n",
       "3       11352  11353     Grace  2004      F    AK     44\n",
       "4       11353  11354     Emily  2004      F    AK     41\n",
       "5       11354  11355   Abigail  2004      F    AK     37\n",
       "6       11355  11356    Olivia  2004      F    AK     33\n",
       "7       11356  11357  Isabella  2004      F    AK     30\n",
       "8       11357  11358    Alyssa  2004      F    AK     29\n",
       "9       11358  11359    Sophia  2004      F    AK     28"
      ],
      "text/html": "<div>\n<style scoped>\n    .dataframe tbody tr th:only-of-type {\n        vertical-align: middle;\n    }\n\n    .dataframe tbody tr th {\n        vertical-align: top;\n    }\n\n    .dataframe thead th {\n        text-align: right;\n    }\n</style>\n<table border=\"1\" class=\"dataframe\">\n  <thead>\n    <tr style=\"text-align: right;\">\n      <th></th>\n      <th>Unnamed: 0</th>\n      <th>Id</th>\n      <th>Name</th>\n      <th>Year</th>\n      <th>Gender</th>\n      <th>State</th>\n      <th>Count</th>\n    </tr>\n  </thead>\n  <tbody>\n    <tr>\n      <th>0</th>\n      <td>11349</td>\n      <td>11350</td>\n      <td>Emma</td>\n      <td>2004</td>\n      <td>F</td>\n      <td>AK</td>\n      <td>62</td>\n    </tr>\n    <tr>\n      <th>1</th>\n      <td>11350</td>\n      <td>11351</td>\n      <td>Madison</td>\n      <td>2004</td>\n      <td>F</td>\n      <td>AK</td>\n      <td>48</td>\n    </tr>\n    <tr>\n      <th>2</th>\n      <td>11351</td>\n      <td>11352</td>\n      <td>Hannah</td>\n      <td>2004</td>\n      <td>F</td>\n      <td>AK</td>\n      <td>46</td>\n    </tr>\n    <tr>\n      <th>3</th>\n      <td>11352</td>\n      <td>11353</td>\n      <td>Grace</td>\n      <td>2004</td>\n      <td>F</td>\n      <td>AK</td>\n      <td>44</td>\n    </tr>\n    <tr>\n      <th>4</th>\n      <td>11353</td>\n      <td>11354</td>\n      <td>Emily</td>\n      <td>2004</td>\n      <td>F</td>\n      <td>AK</td>\n      <td>41</td>\n    </tr>\n    <tr>\n      <th>5</th>\n      <td>11354</td>\n      <td>11355</td>\n      <td>Abigail</td>\n      <td>2004</td>\n      <td>F</td>\n      <td>AK</td>\n      <td>37</td>\n    </tr>\n    <tr>\n      <th>6</th>\n      <td>11355</td>\n      <td>11356</td>\n      <td>Olivia</td>\n      <td>2004</td>\n      <td>F</td>\n      <td>AK</td>\n      <td>33</td>\n    </tr>\n    <tr>\n      <th>7</th>\n      <td>11356</td>\n      <td>11357</td>\n      <td>Isabella</td>\n      <td>2004</td>\n      <td>F</td>\n      <td>AK</td>\n      <td>30</td>\n    </tr>\n    <tr>\n      <th>8</th>\n      <td>11357</td>\n      <td>11358</td>\n      <td>Alyssa</td>\n      <td>2004</td>\n      <td>F</td>\n      <td>AK</td>\n      <td>29</td>\n    </tr>\n    <tr>\n      <th>9</th>\n      <td>11358</td>\n      <td>11359</td>\n      <td>Sophia</td>\n      <td>2004</td>\n      <td>F</td>\n      <td>AK</td>\n      <td>28</td>\n    </tr>\n  </tbody>\n</table>\n</div>"
     },
     "metadata": {},
     "execution_count": 3
    }
   ],
   "source": [
    "baby_names.head(10)"
   ]
  },
  {
   "cell_type": "markdown",
   "metadata": {},
   "source": [
    "### Step 5. Delete the column 'Unnamed: 0' and 'Id'"
   ]
  },
  {
   "cell_type": "code",
   "execution_count": 4,
   "metadata": {
    "collapsed": false
   },
   "outputs": [
    {
     "output_type": "execute_result",
     "data": {
      "text/plain": [
       "      Name  Year Gender State  Count\n",
       "0     Emma  2004      F    AK     62\n",
       "1  Madison  2004      F    AK     48\n",
       "2   Hannah  2004      F    AK     46\n",
       "3    Grace  2004      F    AK     44\n",
       "4    Emily  2004      F    AK     41"
      ],
      "text/html": "<div>\n<style scoped>\n    .dataframe tbody tr th:only-of-type {\n        vertical-align: middle;\n    }\n\n    .dataframe tbody tr th {\n        vertical-align: top;\n    }\n\n    .dataframe thead th {\n        text-align: right;\n    }\n</style>\n<table border=\"1\" class=\"dataframe\">\n  <thead>\n    <tr style=\"text-align: right;\">\n      <th></th>\n      <th>Name</th>\n      <th>Year</th>\n      <th>Gender</th>\n      <th>State</th>\n      <th>Count</th>\n    </tr>\n  </thead>\n  <tbody>\n    <tr>\n      <th>0</th>\n      <td>Emma</td>\n      <td>2004</td>\n      <td>F</td>\n      <td>AK</td>\n      <td>62</td>\n    </tr>\n    <tr>\n      <th>1</th>\n      <td>Madison</td>\n      <td>2004</td>\n      <td>F</td>\n      <td>AK</td>\n      <td>48</td>\n    </tr>\n    <tr>\n      <th>2</th>\n      <td>Hannah</td>\n      <td>2004</td>\n      <td>F</td>\n      <td>AK</td>\n      <td>46</td>\n    </tr>\n    <tr>\n      <th>3</th>\n      <td>Grace</td>\n      <td>2004</td>\n      <td>F</td>\n      <td>AK</td>\n      <td>44</td>\n    </tr>\n    <tr>\n      <th>4</th>\n      <td>Emily</td>\n      <td>2004</td>\n      <td>F</td>\n      <td>AK</td>\n      <td>41</td>\n    </tr>\n  </tbody>\n</table>\n</div>"
     },
     "metadata": {},
     "execution_count": 4
    }
   ],
   "source": [
    "# deletes Unnamed: 0\n",
    "del baby_names['Unnamed: 0']\n",
    "\n",
    "# deletes Unnamed: 0\n",
    "del baby_names['Id']\n",
    "\n",
    "baby_names.head()"
   ]
  },
  {
   "cell_type": "markdown",
   "metadata": {},
   "source": [
    "### Step 6. Is there more male or female names in the dataset?"
   ]
  },
  {
   "cell_type": "code",
   "execution_count": 6,
   "metadata": {
    "collapsed": false
   },
   "outputs": [
    {
     "output_type": "execute_result",
     "data": {
      "text/plain": [
       "F    0.549832\n",
       "M    0.450168\n",
       "Name: Gender, dtype: float64"
      ]
     },
     "metadata": {},
     "execution_count": 6
    }
   ],
   "source": [
    "baby_names['Gender'].value_counts('F')\n",
    "#baby_names['Gender'].value_counts('M')"
   ]
  },
  {
   "cell_type": "markdown",
   "metadata": {},
   "source": [
    "### Step 7. Group the dataset by name and assign to names"
   ]
  },
  {
   "cell_type": "code",
   "execution_count": 10,
   "metadata": {
    "collapsed": false
   },
   "outputs": [
    {
     "output_type": "stream",
     "name": "stdout",
     "text": [
      "(17632, 1)\n"
     ]
    },
    {
     "output_type": "execute_result",
     "data": {
      "text/plain": [
       "           Count\n",
       "Name            \n",
       "Jacob     242874\n",
       "Emma      214852\n",
       "Michael   214405\n",
       "Ethan     209277\n",
       "Isabella  204798"
      ],
      "text/html": "<div>\n<style scoped>\n    .dataframe tbody tr th:only-of-type {\n        vertical-align: middle;\n    }\n\n    .dataframe tbody tr th {\n        vertical-align: top;\n    }\n\n    .dataframe thead th {\n        text-align: right;\n    }\n</style>\n<table border=\"1\" class=\"dataframe\">\n  <thead>\n    <tr style=\"text-align: right;\">\n      <th></th>\n      <th>Count</th>\n    </tr>\n    <tr>\n      <th>Name</th>\n      <th></th>\n    </tr>\n  </thead>\n  <tbody>\n    <tr>\n      <th>Jacob</th>\n      <td>242874</td>\n    </tr>\n    <tr>\n      <th>Emma</th>\n      <td>214852</td>\n    </tr>\n    <tr>\n      <th>Michael</th>\n      <td>214405</td>\n    </tr>\n    <tr>\n      <th>Ethan</th>\n      <td>209277</td>\n    </tr>\n    <tr>\n      <th>Isabella</th>\n      <td>204798</td>\n    </tr>\n  </tbody>\n</table>\n</div>"
     },
     "metadata": {},
     "execution_count": 10
    }
   ],
   "source": [
    "# you don't want to sum the Year column, so you delete it\n",
    "del baby_names[\"Year\"]\n",
    "\n",
    "# group the data\n",
    "names = baby_names.groupby(\"Name\").sum()\n",
    "\n",
    "# print the first 5 observations\n",
    "names.head(5)\n",
    "\n",
    "# print the size of the dataset\n",
    "print (names.shape)\n",
    "\n",
    "# sort it from the biggest value to the smallest one\n",
    "names.sort_values(\"Count\", ascending = 0).head()"
   ]
  },
  {
   "cell_type": "markdown",
   "metadata": {},
   "source": [
    "### Step 8. How many different names exist in the dataset?"
   ]
  },
  {
   "cell_type": "code",
   "execution_count": 11,
   "metadata": {
    "collapsed": false
   },
   "outputs": [
    {
     "output_type": "execute_result",
     "data": {
      "text/plain": [
       "17632"
      ]
     },
     "metadata": {},
     "execution_count": 11
    }
   ],
   "source": [
    "# as we have already grouped by the name, all the names are unique already. \n",
    "# get the length of names\n",
    "len(names)"
   ]
  },
  {
   "cell_type": "markdown",
   "metadata": {},
   "source": [
    "### Step 9. What is the name with most occurrences?"
   ]
  },
  {
   "cell_type": "code",
   "execution_count": 13,
   "metadata": {
    "collapsed": false
   },
   "outputs": [
    {
     "output_type": "execute_result",
     "data": {
      "text/plain": [
       "        Count\n",
       "Name         \n",
       "Jacob  242874"
      ],
      "text/html": "<div>\n<style scoped>\n    .dataframe tbody tr th:only-of-type {\n        vertical-align: middle;\n    }\n\n    .dataframe tbody tr th {\n        vertical-align: top;\n    }\n\n    .dataframe thead th {\n        text-align: right;\n    }\n</style>\n<table border=\"1\" class=\"dataframe\">\n  <thead>\n    <tr style=\"text-align: right;\">\n      <th></th>\n      <th>Count</th>\n    </tr>\n    <tr>\n      <th>Name</th>\n      <th></th>\n    </tr>\n  </thead>\n  <tbody>\n    <tr>\n      <th>Jacob</th>\n      <td>242874</td>\n    </tr>\n  </tbody>\n</table>\n</div>"
     },
     "metadata": {},
     "execution_count": 13
    }
   ],
   "source": [
    "names.Count.idxmax()\n",
    "\n",
    "# OR\n",
    "\n",
    "names[names.Count == names.Count.max()]"
   ]
  },
  {
   "cell_type": "markdown",
   "metadata": {},
   "source": [
    "### Step 10. How many different names have the least occurrences?"
   ]
  },
  {
   "cell_type": "code",
   "execution_count": 14,
   "metadata": {
    "collapsed": false
   },
   "outputs": [
    {
     "output_type": "execute_result",
     "data": {
      "text/plain": [
       "2578"
      ]
     },
     "metadata": {},
     "execution_count": 14
    }
   ],
   "source": [
    "len(names[names.Count == names.Count.min()])"
   ]
  },
  {
   "cell_type": "markdown",
   "metadata": {},
   "source": [
    "### Step 11. What is the median name occurrence?"
   ]
  },
  {
   "cell_type": "code",
   "execution_count": 15,
   "metadata": {
    "collapsed": false
   },
   "outputs": [
    {
     "output_type": "execute_result",
     "data": {
      "text/plain": [
       "         Count\n",
       "Name          \n",
       "Aishani     49\n",
       "Alara       49\n",
       "Alysse      49\n",
       "Ameir       49\n",
       "Anely       49\n",
       "...        ...\n",
       "Sriram      49\n",
       "Trinton     49\n",
       "Vita        49\n",
       "Yoni        49\n",
       "Zuleima     49\n",
       "\n",
       "[66 rows x 1 columns]"
      ],
      "text/html": "<div>\n<style scoped>\n    .dataframe tbody tr th:only-of-type {\n        vertical-align: middle;\n    }\n\n    .dataframe tbody tr th {\n        vertical-align: top;\n    }\n\n    .dataframe thead th {\n        text-align: right;\n    }\n</style>\n<table border=\"1\" class=\"dataframe\">\n  <thead>\n    <tr style=\"text-align: right;\">\n      <th></th>\n      <th>Count</th>\n    </tr>\n    <tr>\n      <th>Name</th>\n      <th></th>\n    </tr>\n  </thead>\n  <tbody>\n    <tr>\n      <th>Aishani</th>\n      <td>49</td>\n    </tr>\n    <tr>\n      <th>Alara</th>\n      <td>49</td>\n    </tr>\n    <tr>\n      <th>Alysse</th>\n      <td>49</td>\n    </tr>\n    <tr>\n      <th>Ameir</th>\n      <td>49</td>\n    </tr>\n    <tr>\n      <th>Anely</th>\n      <td>49</td>\n    </tr>\n    <tr>\n      <th>...</th>\n      <td>...</td>\n    </tr>\n    <tr>\n      <th>Sriram</th>\n      <td>49</td>\n    </tr>\n    <tr>\n      <th>Trinton</th>\n      <td>49</td>\n    </tr>\n    <tr>\n      <th>Vita</th>\n      <td>49</td>\n    </tr>\n    <tr>\n      <th>Yoni</th>\n      <td>49</td>\n    </tr>\n    <tr>\n      <th>Zuleima</th>\n      <td>49</td>\n    </tr>\n  </tbody>\n</table>\n<p>66 rows × 1 columns</p>\n</div>"
     },
     "metadata": {},
     "execution_count": 15
    }
   ],
   "source": [
    "names[names.Count == names.Count.median()]"
   ]
  },
  {
   "cell_type": "markdown",
   "metadata": {},
   "source": [
    "### Step 12. What is the standard deviation of names?"
   ]
  },
  {
   "cell_type": "code",
   "execution_count": 16,
   "metadata": {
    "collapsed": false
   },
   "outputs": [
    {
     "output_type": "execute_result",
     "data": {
      "text/plain": [
       "11006.06946789057"
      ]
     },
     "metadata": {},
     "execution_count": 16
    }
   ],
   "source": [
    "names.Count.std()"
   ]
  },
  {
   "cell_type": "markdown",
   "metadata": {},
   "source": [
    "### Step 13. Get a summary with the mean, min, max, std and quartiles."
   ]
  },
  {
   "cell_type": "code",
   "execution_count": 17,
   "metadata": {
    "collapsed": false
   },
   "outputs": [
    {
     "output_type": "execute_result",
     "data": {
      "text/plain": [
       "               Count\n",
       "count   17632.000000\n",
       "mean     2008.932169\n",
       "std     11006.069468\n",
       "min         5.000000\n",
       "25%        11.000000\n",
       "50%        49.000000\n",
       "75%       337.000000\n",
       "max    242874.000000"
      ],
      "text/html": "<div>\n<style scoped>\n    .dataframe tbody tr th:only-of-type {\n        vertical-align: middle;\n    }\n\n    .dataframe tbody tr th {\n        vertical-align: top;\n    }\n\n    .dataframe thead th {\n        text-align: right;\n    }\n</style>\n<table border=\"1\" class=\"dataframe\">\n  <thead>\n    <tr style=\"text-align: right;\">\n      <th></th>\n      <th>Count</th>\n    </tr>\n  </thead>\n  <tbody>\n    <tr>\n      <th>count</th>\n      <td>17632.000000</td>\n    </tr>\n    <tr>\n      <th>mean</th>\n      <td>2008.932169</td>\n    </tr>\n    <tr>\n      <th>std</th>\n      <td>11006.069468</td>\n    </tr>\n    <tr>\n      <th>min</th>\n      <td>5.000000</td>\n    </tr>\n    <tr>\n      <th>25%</th>\n      <td>11.000000</td>\n    </tr>\n    <tr>\n      <th>50%</th>\n      <td>49.000000</td>\n    </tr>\n    <tr>\n      <th>75%</th>\n      <td>337.000000</td>\n    </tr>\n    <tr>\n      <th>max</th>\n      <td>242874.000000</td>\n    </tr>\n  </tbody>\n</table>\n</div>"
     },
     "metadata": {},
     "execution_count": 17
    }
   ],
   "source": [
    "names.describe()"
   ]
  },
  {
   "cell_type": "code",
   "execution_count": null,
   "metadata": {},
   "outputs": [],
   "source": []
  }
 ],
 "metadata": {
  "kernelspec": {
   "name": "Python 3.8.5 64-bit",
   "display_name": "Python 3.8.5 64-bit",
   "metadata": {
    "interpreter": {
     "hash": "31f2aee4e71d21fbe5cf8b01ff0e069b9275f58929596ceb00d14d90e3e16cd6"
    }
   }
  }
 },
 "nbformat": 4,
 "nbformat_minor": 0
}